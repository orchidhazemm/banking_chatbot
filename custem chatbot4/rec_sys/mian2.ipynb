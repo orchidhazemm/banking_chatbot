{
 "cells": [
  {
   "cell_type": "code",
   "execution_count": 2,
   "metadata": {},
   "outputs": [],
   "source": [
    "from recommendation_sys import *"
   ]
  },
  {
   "cell_type": "code",
   "execution_count": 3,
   "metadata": {},
   "outputs": [],
   "source": [
    "# reading the df data.\n",
    "# should include\n",
    "# - uid: user id.\n",
    "# - iid: item id.\n",
    "# - indic: rating number or any indication of an interest for this item.\n",
    "# - timestamp: the time of doing this, or last time doing this.\n",
    "\n",
    "rec_data = pd.read_csv('rec_user_product_qty_data.csv')"
   ]
  },
  {
   "cell_type": "code",
   "execution_count": 4,
   "metadata": {},
   "outputs": [
    {
     "data": {
      "text/html": [
       "<div>\n",
       "<style scoped>\n",
       "    .dataframe tbody tr th:only-of-type {\n",
       "        vertical-align: middle;\n",
       "    }\n",
       "\n",
       "    .dataframe tbody tr th {\n",
       "        vertical-align: top;\n",
       "    }\n",
       "\n",
       "    .dataframe thead th {\n",
       "        text-align: right;\n",
       "    }\n",
       "</style>\n",
       "<table border=\"1\" class=\"dataframe\">\n",
       "  <thead>\n",
       "    <tr style=\"text-align: right;\">\n",
       "      <th></th>\n",
       "      <th>uid</th>\n",
       "      <th>iid</th>\n",
       "      <th>qty</th>\n",
       "    </tr>\n",
       "  </thead>\n",
       "  <tbody>\n",
       "    <tr>\n",
       "      <th>0</th>\n",
       "      <td>15889</td>\n",
       "      <td>ind_cco_fin_ult1</td>\n",
       "      <td>17</td>\n",
       "    </tr>\n",
       "    <tr>\n",
       "      <th>1</th>\n",
       "      <td>15889</td>\n",
       "      <td>ind_ctpp_fin_ult1</td>\n",
       "      <td>17</td>\n",
       "    </tr>\n",
       "    <tr>\n",
       "      <th>2</th>\n",
       "      <td>15889</td>\n",
       "      <td>ind_tjcr_fin_ult1</td>\n",
       "      <td>8</td>\n",
       "    </tr>\n",
       "    <tr>\n",
       "      <th>3</th>\n",
       "      <td>15889</td>\n",
       "      <td>ind_valo_fin_ult1</td>\n",
       "      <td>17</td>\n",
       "    </tr>\n",
       "    <tr>\n",
       "      <th>4</th>\n",
       "      <td>15890</td>\n",
       "      <td>ind_cno_fin_ult1</td>\n",
       "      <td>17</td>\n",
       "    </tr>\n",
       "  </tbody>\n",
       "</table>\n",
       "</div>"
      ],
      "text/plain": [
       "     uid                iid  qty\n",
       "0  15889   ind_cco_fin_ult1   17\n",
       "1  15889  ind_ctpp_fin_ult1   17\n",
       "2  15889  ind_tjcr_fin_ult1    8\n",
       "3  15889  ind_valo_fin_ult1   17\n",
       "4  15890   ind_cno_fin_ult1   17"
      ]
     },
     "execution_count": 4,
     "metadata": {},
     "output_type": "execute_result"
    }
   ],
   "source": [
    "# data like...\n",
    "rec_data.head()"
   ]
  },
  {
   "cell_type": "code",
   "execution_count": 5,
   "metadata": {},
   "outputs": [
    {
     "name": "stdout",
     "output_type": "stream",
     "text": [
      "unique users ids: 731,162\n"
     ]
    }
   ],
   "source": [
    "# in my example i have unique users ids.\n",
    "uids = rec_data['uid'].unique()\n",
    "print(f'unique users ids: {uids.shape[0]:,}')"
   ]
  },
  {
   "cell_type": "code",
   "execution_count": 6,
   "metadata": {},
   "outputs": [
    {
     "name": "stdout",
     "output_type": "stream",
     "text": [
      "unique items ids: 24\n"
     ]
    }
   ],
   "source": [
    "iids = rec_data['iid'].unique()\n",
    "print(f'unique items ids: {iids.shape[0]:,}')"
   ]
  },
  {
   "cell_type": "code",
   "execution_count": 7,
   "metadata": {},
   "outputs": [],
   "source": [
    "# to use the recommendation system\n",
    "# you  need make an instance of class RecommendationSys.\n",
    "rec_sys = RecommendationSys(indic='qty')"
   ]
  },
  {
   "cell_type": "code",
   "execution_count": 7,
   "metadata": {},
   "outputs": [],
   "source": [
    "# # if you want to train new version of model in new ratings data\n",
    "# # and this train the mode and save the required files to predict\n",
    "# # the recommendations latter without train model again.\n",
    "\n",
    "# # this ratings must be all ratings data of all users and items in template schema.\n",
    "# rec_sys.train_model(rec_data)\n",
    "# # after this all files saved in folder named \"model_data\"."
   ]
  },
  {
   "cell_type": "code",
   "execution_count": 9,
   "metadata": {},
   "outputs": [
    {
     "name": "stdout",
     "output_type": "stream",
     "text": [
      "User id: 558398\n"
     ]
    },
    {
     "data": {
      "text/html": [
       "<div>\n",
       "<style scoped>\n",
       "    .dataframe tbody tr th:only-of-type {\n",
       "        vertical-align: middle;\n",
       "    }\n",
       "\n",
       "    .dataframe tbody tr th {\n",
       "        vertical-align: top;\n",
       "    }\n",
       "\n",
       "    .dataframe thead th {\n",
       "        text-align: right;\n",
       "    }\n",
       "</style>\n",
       "<table border=\"1\" class=\"dataframe\">\n",
       "  <thead>\n",
       "    <tr style=\"text-align: right;\">\n",
       "      <th></th>\n",
       "      <th>iid</th>\n",
       "      <th>qty</th>\n",
       "    </tr>\n",
       "  </thead>\n",
       "  <tbody>\n",
       "    <tr>\n",
       "      <th>0</th>\n",
       "      <td>ind_cco_fin_ult1</td>\n",
       "      <td>17</td>\n",
       "    </tr>\n",
       "    <tr>\n",
       "      <th>1</th>\n",
       "      <td>ind_ctpp_fin_ult1</td>\n",
       "      <td>17</td>\n",
       "    </tr>\n",
       "  </tbody>\n",
       "</table>\n",
       "</div>"
      ],
      "text/plain": [
       "                 iid  qty\n",
       "0   ind_cco_fin_ult1   17\n",
       "1  ind_ctpp_fin_ult1   17"
      ]
     },
     "execution_count": 9,
     "metadata": {},
     "output_type": "execute_result"
    }
   ],
   "source": [
    "# get random user id for testing the model.\n",
    "user_id = np.random.choice(uids)\n",
    "\n",
    "# get all data for a specific user only.\n",
    "user_preferred_products = rec_data[rec_data['uid'] == user_id][['iid', 'qty']]\n",
    "user_preferred_products = user_preferred_products.sort_values(\n",
    "    by='qty', ascending=False).reset_index(drop=True)\n",
    "print(f'User id: {user_id}')\n",
    "user_preferred_products"
   ]
  },
  {
   "cell_type": "code",
   "execution_count": 10,
   "metadata": {},
   "outputs": [
    {
     "name": "stdout",
     "output_type": "stream",
     "text": [
      "this userId have 2 Interested in products.\n",
      "\n",
      "[Errno 2] No such file or directory: 'rec_sys\\\\model_data\\\\item_mapper.pkl'\n"
     ]
    },
    {
     "ename": "KeyError",
     "evalue": "'ind_cco_fin_ult1'",
     "output_type": "error",
     "traceback": [
      "\u001b[1;31m---------------------------------------------------------------------------\u001b[0m",
      "\u001b[1;31mKeyError\u001b[0m                                  Traceback (most recent call last)",
      "Cell \u001b[1;32mIn[10], line 10\u001b[0m\n\u001b[0;32m      1\u001b[0m \u001b[38;5;66;03m# if you want to all recommendations for a user id\u001b[39;00m\n\u001b[0;32m      2\u001b[0m \u001b[38;5;66;03m# get his all data like above, and call method \"recommend_items\" from\u001b[39;00m\n\u001b[0;32m      3\u001b[0m \u001b[38;5;66;03m# your RecommendationSys instance.\u001b[39;00m\n\u001b[1;32m   (...)\u001b[0m\n\u001b[0;32m      8\u001b[0m \n\u001b[0;32m      9\u001b[0m \u001b[38;5;66;03m# NOTE: you can't call ir use this method before train the mode at least one time.\u001b[39;00m\n\u001b[1;32m---> 10\u001b[0m recommendations_ids \u001b[38;5;241m=\u001b[39m \u001b[43mrec_sys\u001b[49m\u001b[38;5;241;43m.\u001b[39;49m\u001b[43mrecommend_items\u001b[49m\u001b[43m(\u001b[49m\n\u001b[0;32m     11\u001b[0m \u001b[43m    \u001b[49m\u001b[43muser_prev_data\u001b[49m\u001b[38;5;241;43m=\u001b[39;49m\u001b[43muser_preferred_products\u001b[49m\u001b[43m,\u001b[49m\n\u001b[0;32m     12\u001b[0m \u001b[43m)\u001b[49m\n\u001b[0;32m     14\u001b[0m \u001b[38;5;66;03m# NOTE: any prints just to show you the results,\u001b[39;00m\n\u001b[0;32m     15\u001b[0m \u001b[38;5;66;03m# if you want to hide it you can put print_results=False.\u001b[39;00m\n",
      "File \u001b[1;32mk:\\python\\streamlit\\custem chatbot2\\rec_sys\\recommendation_sys.py:173\u001b[0m, in \u001b[0;36mRecommendationSys.recommend_items\u001b[1;34m(self, user_prev_data, n_most_important_items, n_for_each_item, print_results)\u001b[0m\n\u001b[0;32m    168\u001b[0m     \u001b[38;5;28mprint\u001b[39m(\n\u001b[0;32m    169\u001b[0m         \u001b[38;5;124mf\u001b[39m\u001b[38;5;124m'\u001b[39m\u001b[38;5;124mthis userId have \u001b[39m\u001b[38;5;132;01m{\u001b[39;00m\u001b[38;5;28mlen\u001b[39m(most_important_items)\u001b[38;5;132;01m}\u001b[39;00m\u001b[38;5;124m Interested in products.\u001b[39m\u001b[38;5;130;01m\\n\u001b[39;00m\u001b[38;5;124m'\u001b[39m)\n\u001b[0;32m    171\u001b[0m \u001b[38;5;28;01mfor\u001b[39;00m item_idx, item_id \u001b[38;5;129;01min\u001b[39;00m \u001b[38;5;28menumerate\u001b[39m(most_important_items):\n\u001b[1;32m--> 173\u001b[0m     curr_similar_items_ids \u001b[38;5;241m=\u001b[39m \u001b[38;5;28;43mself\u001b[39;49m\u001b[38;5;241;43m.\u001b[39;49m\u001b[43m__find_similar_item\u001b[49m\u001b[43m(\u001b[49m\n\u001b[0;32m    174\u001b[0m \u001b[43m        \u001b[49m\u001b[43mitem_id\u001b[49m\u001b[43m,\u001b[49m\n\u001b[0;32m    175\u001b[0m \u001b[43m        \u001b[49m\u001b[43mn_neighbors\u001b[49m\u001b[38;5;241;43m=\u001b[39;49m\u001b[43mn_for_each_item\u001b[49m\n\u001b[0;32m    176\u001b[0m \u001b[43m    \u001b[49m\u001b[43m)\u001b[49m\n\u001b[0;32m    177\u001b[0m     item_rec_dict[item_id] \u001b[38;5;241m=\u001b[39m curr_similar_items_ids\n\u001b[0;32m    179\u001b[0m     \u001b[38;5;28;01mif\u001b[39;00m print_results:\n",
      "File \u001b[1;32mk:\\python\\streamlit\\custem chatbot2\\rec_sys\\recommendation_sys.py:347\u001b[0m, in \u001b[0;36mRecommendationSys.__find_similar_item\u001b[1;34m(self, iid, n_neighbors, show_distance)\u001b[0m\n\u001b[0;32m    344\u001b[0m     \u001b[38;5;28mself\u001b[39m\u001b[38;5;241m.\u001b[39m__load_model_data()\n\u001b[0;32m    346\u001b[0m \u001b[38;5;66;03m# get all users interaction with this item.\u001b[39;00m\n\u001b[1;32m--> 347\u001b[0m item_index \u001b[38;5;241m=\u001b[39m \u001b[38;5;28;43mself\u001b[39;49m\u001b[38;5;241;43m.\u001b[39;49m\u001b[43m__item_mapper\u001b[49m\u001b[43m[\u001b[49m\u001b[43miid\u001b[49m\u001b[43m]\u001b[49m\n\u001b[0;32m    348\u001b[0m item_vector \u001b[38;5;241m=\u001b[39m \u001b[38;5;28mself\u001b[39m\u001b[38;5;241m.\u001b[39m__csr_mat_X[item_index]  \u001b[38;5;66;03m# type: ignore\u001b[39;00m\n\u001b[0;32m    349\u001b[0m item_vector \u001b[38;5;241m=\u001b[39m item_vector\u001b[38;5;241m.\u001b[39mreshape(\u001b[38;5;241m1\u001b[39m, \u001b[38;5;241m-\u001b[39m\u001b[38;5;241m1\u001b[39m)\n",
      "\u001b[1;31mKeyError\u001b[0m: 'ind_cco_fin_ult1'"
     ]
    }
   ],
   "source": [
    "# if you want to all recommendations for a user id\n",
    "# get his all data like above, and call method \"recommend_items\" from\n",
    "# your RecommendationSys instance.\n",
    "\n",
    "# this return to you all items recommended ids in list,\n",
    "# for each most rated item by user, get the recommendations based on it\n",
    "# based on collaborative filtering type item-based method.\n",
    "\n",
    "# NOTE: you can't call ir use this method before train the mode at least one time.\n",
    "recommendations_ids = rec_sys.recommend_items(\n",
    "    user_prev_data=user_preferred_products,\n",
    ")\n",
    "\n",
    "# NOTE: any prints just to show you the results,\n",
    "# if you want to hide it you can put print_results=False."
   ]
  },
  {
   "cell_type": "code",
   "execution_count": 10,
   "metadata": {},
   "outputs": [
    {
     "data": {
      "text/html": [
       "<div>\n",
       "<style scoped>\n",
       "    .dataframe tbody tr th:only-of-type {\n",
       "        vertical-align: middle;\n",
       "    }\n",
       "\n",
       "    .dataframe tbody tr th {\n",
       "        vertical-align: top;\n",
       "    }\n",
       "\n",
       "    .dataframe thead th {\n",
       "        text-align: right;\n",
       "    }\n",
       "</style>\n",
       "<table border=\"1\" class=\"dataframe\">\n",
       "  <thead>\n",
       "    <tr style=\"text-align: right;\">\n",
       "      <th></th>\n",
       "      <th>iid</th>\n",
       "      <th>qty</th>\n",
       "    </tr>\n",
       "  </thead>\n",
       "  <tbody>\n",
       "    <tr>\n",
       "      <th>0</th>\n",
       "      <td>ind_cno_fin_ult1</td>\n",
       "      <td>3</td>\n",
       "    </tr>\n",
       "  </tbody>\n",
       "</table>\n",
       "</div>"
      ],
      "text/plain": [
       "                iid  qty\n",
       "0  ind_cno_fin_ult1    3"
      ]
     },
     "execution_count": 10,
     "metadata": {},
     "output_type": "execute_result"
    }
   ],
   "source": [
    "user_preferred_products"
   ]
  },
  {
   "cell_type": "code",
   "execution_count": 16,
   "metadata": {},
   "outputs": [
    {
     "name": "stdout",
     "output_type": "stream",
     "text": [
      "10 recommend products types\n"
     ]
    },
    {
     "data": {
      "text/plain": [
       "['ind_nom_pens_ult1',\n",
       " 'ind_nomina_ult1',\n",
       " 'ind_recibo_ult1',\n",
       " 'ind_tjcr_fin_ult1',\n",
       " 'ind_reca_fin_ult1',\n",
       " 'ind_ecue_fin_ult1',\n",
       " 'ind_ctpp_fin_ult1',\n",
       " 'ind_hip_fin_ult1',\n",
       " 'ind_valo_fin_ult1',\n",
       " 'ind_dela_fin_ult1']"
      ]
     },
     "execution_count": 16,
     "metadata": {},
     "output_type": "execute_result"
    }
   ],
   "source": [
    "print(len(recommendations_ids[0]), 'recommend products types')\n",
    "recommendations_ids[0]"
   ]
  },
  {
   "cell_type": "code",
   "execution_count": 12,
   "metadata": {},
   "outputs": [],
   "source": [
    "product_names = pd.read_csv(\"products_type_names.csv\")\n",
    "product_names = product_names.set_index('iid')['name']\n",
    "product_names_dict = product_names.to_dict()"
   ]
  },
  {
   "cell_type": "code",
   "execution_count": 13,
   "metadata": {},
   "outputs": [],
   "source": [
    "recommendations_ids_dic = recommendations_ids[1]"
   ]
  },
  {
   "cell_type": "code",
   "execution_count": 14,
   "metadata": {},
   "outputs": [
    {
     "name": "stdout",
     "output_type": "stream",
     "text": [
      "Recommendation:\n",
      "Once you Prefer: \"Payroll Account\" you may prefer:\n",
      "  1. Pensions\n",
      "  2. Payroll\n",
      "  3. Direct Debit\n",
      "  4. Credit Card\n",
      "  5. Taxes\n",
      "  6. e-account\n",
      "  7. particular Plus Account\n",
      "  8. Mortgage\n",
      "  9. Securities\n",
      "  10. Long-term deposits\n",
      "\n"
     ]
    }
   ],
   "source": [
    "rec_sys.print_pretty_recommendation(\n",
    "    product_names_dict,\n",
    "    recommendations_ids_dic)"
   ]
  },
  {
   "cell_type": "code",
   "execution_count": 15,
   "metadata": {},
   "outputs": [
    {
     "data": {
      "text/plain": [
       "array(['Saving Account', 'Guarantees', 'Current Accounts',\n",
       "       'Derivada Account', 'Payroll Account', 'Junior Account',\n",
       "       'Más particular Account', 'particular Account',\n",
       "       'particular Plus Account', 'Short-term deposits',\n",
       "       'Medium-term deposits', 'Long-term deposits', 'e-account', 'Funds',\n",
       "       'Mortgage', 'Pensions', 'Loans', 'Taxes', 'Credit Card',\n",
       "       'Securities', 'Home Account', 'Payroll', 'Pensions',\n",
       "       'Direct Debit'], dtype=object)"
      ]
     },
     "execution_count": 15,
     "metadata": {},
     "output_type": "execute_result"
    }
   ],
   "source": [
    "product_names.values"
   ]
  }
 ],
 "metadata": {
  "kernelspec": {
   "display_name": "Python 3",
   "language": "python",
   "name": "python3"
  },
  "language_info": {
   "codemirror_mode": {
    "name": "ipython",
    "version": 3
   },
   "file_extension": ".py",
   "mimetype": "text/x-python",
   "name": "python",
   "nbconvert_exporter": "python",
   "pygments_lexer": "ipython3",
   "version": "3.11.0"
  }
 },
 "nbformat": 4,
 "nbformat_minor": 2
}
