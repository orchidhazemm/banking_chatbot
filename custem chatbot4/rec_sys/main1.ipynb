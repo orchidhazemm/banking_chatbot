{
 "cells": [
  {
   "cell_type": "code",
   "execution_count": 1,
   "metadata": {},
   "outputs": [],
   "source": [
    "import polars as pl"
   ]
  },
  {
   "cell_type": "code",
   "execution_count": 2,
   "metadata": {},
   "outputs": [],
   "source": [
    "df = pl.read_csv(\"train_ver2.csv\", low_memory=True, ignore_errors=True)"
   ]
  },
  {
   "cell_type": "code",
   "execution_count": 3,
   "metadata": {},
   "outputs": [
    {
     "data": {
      "text/html": [
       "<div><style>\n",
       ".dataframe > thead > tr,\n",
       ".dataframe > tbody > tr {\n",
       "  text-align: right;\n",
       "  white-space: pre-wrap;\n",
       "}\n",
       "</style>\n",
       "<small>shape: (5, 48)</small><table border=\"1\" class=\"dataframe\"><thead><tr><th>fecha_dato</th><th>ncodpers</th><th>ind_empleado</th><th>pais_residencia</th><th>sexo</th><th>age</th><th>fecha_alta</th><th>ind_nuevo</th><th>antiguedad</th><th>indrel</th><th>ult_fec_cli_1t</th><th>indrel_1mes</th><th>tiprel_1mes</th><th>indresi</th><th>indext</th><th>conyuemp</th><th>canal_entrada</th><th>indfall</th><th>tipodom</th><th>cod_prov</th><th>nomprov</th><th>ind_actividad_cliente</th><th>renta</th><th>segmento</th><th>ind_ahor_fin_ult1</th><th>ind_aval_fin_ult1</th><th>ind_cco_fin_ult1</th><th>ind_cder_fin_ult1</th><th>ind_cno_fin_ult1</th><th>ind_ctju_fin_ult1</th><th>ind_ctma_fin_ult1</th><th>ind_ctop_fin_ult1</th><th>ind_ctpp_fin_ult1</th><th>ind_deco_fin_ult1</th><th>ind_deme_fin_ult1</th><th>ind_dela_fin_ult1</th><th>ind_ecue_fin_ult1</th><th>ind_fond_fin_ult1</th><th>ind_hip_fin_ult1</th><th>ind_plan_fin_ult1</th><th>ind_pres_fin_ult1</th><th>ind_reca_fin_ult1</th><th>ind_tjcr_fin_ult1</th><th>ind_valo_fin_ult1</th><th>ind_viv_fin_ult1</th><th>ind_nomina_ult1</th><th>ind_nom_pens_ult1</th><th>ind_recibo_ult1</th></tr><tr><td>str</td><td>i64</td><td>str</td><td>str</td><td>str</td><td>str</td><td>str</td><td>str</td><td>str</td><td>str</td><td>str</td><td>f64</td><td>str</td><td>str</td><td>str</td><td>str</td><td>str</td><td>str</td><td>str</td><td>str</td><td>str</td><td>str</td><td>f64</td><td>str</td><td>i64</td><td>i64</td><td>i64</td><td>i64</td><td>i64</td><td>i64</td><td>i64</td><td>i64</td><td>i64</td><td>i64</td><td>i64</td><td>i64</td><td>i64</td><td>i64</td><td>i64</td><td>i64</td><td>i64</td><td>i64</td><td>i64</td><td>i64</td><td>i64</td><td>str</td><td>str</td><td>i64</td></tr></thead><tbody><tr><td>&quot;2015-01-28&quot;</td><td>1375586</td><td>&quot;N&quot;</td><td>&quot;ES&quot;</td><td>&quot;H&quot;</td><td>&quot; 35&quot;</td><td>&quot;2015-01-12&quot;</td><td>&quot; 0&quot;</td><td>&quot;      6&quot;</td><td>&quot; 1&quot;</td><td>null</td><td>1.0</td><td>&quot;A&quot;</td><td>&quot;S&quot;</td><td>&quot;N&quot;</td><td>null</td><td>&quot;KHL&quot;</td><td>&quot;N&quot;</td><td>&quot; 1&quot;</td><td>&quot;29&quot;</td><td>&quot;MALAGA&quot;</td><td>&quot; 1&quot;</td><td>87218.1</td><td>&quot;02 - PARTICULARES&quot;</td><td>0</td><td>0</td><td>1</td><td>0</td><td>0</td><td>0</td><td>0</td><td>0</td><td>0</td><td>0</td><td>0</td><td>0</td><td>0</td><td>0</td><td>0</td><td>0</td><td>0</td><td>0</td><td>0</td><td>0</td><td>0</td><td>&quot; 0&quot;</td><td>&quot; 0&quot;</td><td>0</td></tr><tr><td>&quot;2015-01-28&quot;</td><td>1050611</td><td>&quot;N&quot;</td><td>&quot;ES&quot;</td><td>&quot;V&quot;</td><td>&quot; 23&quot;</td><td>&quot;2012-08-10&quot;</td><td>&quot; 0&quot;</td><td>&quot;     35&quot;</td><td>&quot; 1&quot;</td><td>null</td><td>1.0</td><td>&quot;I&quot;</td><td>&quot;S&quot;</td><td>&quot;S&quot;</td><td>null</td><td>&quot;KHE&quot;</td><td>&quot;N&quot;</td><td>&quot; 1&quot;</td><td>&quot;13&quot;</td><td>&quot;CIUDAD REAL&quot;</td><td>&quot; 0&quot;</td><td>35548.74</td><td>&quot;03 - UNIVERSITARIO&quot;</td><td>0</td><td>0</td><td>1</td><td>0</td><td>0</td><td>0</td><td>0</td><td>0</td><td>0</td><td>0</td><td>0</td><td>0</td><td>0</td><td>0</td><td>0</td><td>0</td><td>0</td><td>0</td><td>0</td><td>0</td><td>0</td><td>&quot; 0&quot;</td><td>&quot; 0&quot;</td><td>0</td></tr><tr><td>&quot;2015-01-28&quot;</td><td>1050612</td><td>&quot;N&quot;</td><td>&quot;ES&quot;</td><td>&quot;V&quot;</td><td>&quot; 23&quot;</td><td>&quot;2012-08-10&quot;</td><td>&quot; 0&quot;</td><td>&quot;     35&quot;</td><td>&quot; 1&quot;</td><td>null</td><td>1.0</td><td>&quot;I&quot;</td><td>&quot;S&quot;</td><td>&quot;N&quot;</td><td>null</td><td>&quot;KHE&quot;</td><td>&quot;N&quot;</td><td>&quot; 1&quot;</td><td>&quot;13&quot;</td><td>&quot;CIUDAD REAL&quot;</td><td>&quot; 0&quot;</td><td>122179.11</td><td>&quot;03 - UNIVERSITARIO&quot;</td><td>0</td><td>0</td><td>1</td><td>0</td><td>0</td><td>0</td><td>0</td><td>0</td><td>0</td><td>0</td><td>0</td><td>0</td><td>0</td><td>0</td><td>0</td><td>0</td><td>0</td><td>0</td><td>0</td><td>0</td><td>0</td><td>&quot; 0&quot;</td><td>&quot; 0&quot;</td><td>0</td></tr><tr><td>&quot;2015-01-28&quot;</td><td>1050613</td><td>&quot;N&quot;</td><td>&quot;ES&quot;</td><td>&quot;H&quot;</td><td>&quot; 22&quot;</td><td>&quot;2012-08-10&quot;</td><td>&quot; 0&quot;</td><td>&quot;     35&quot;</td><td>&quot; 1&quot;</td><td>null</td><td>1.0</td><td>&quot;I&quot;</td><td>&quot;S&quot;</td><td>&quot;N&quot;</td><td>null</td><td>&quot;KHD&quot;</td><td>&quot;N&quot;</td><td>&quot; 1&quot;</td><td>&quot;50&quot;</td><td>&quot;ZARAGOZA&quot;</td><td>&quot; 0&quot;</td><td>119775.54</td><td>&quot;03 - UNIVERSITARIO&quot;</td><td>0</td><td>0</td><td>0</td><td>0</td><td>0</td><td>0</td><td>0</td><td>0</td><td>0</td><td>1</td><td>0</td><td>0</td><td>0</td><td>0</td><td>0</td><td>0</td><td>0</td><td>0</td><td>0</td><td>0</td><td>0</td><td>&quot; 0&quot;</td><td>&quot; 0&quot;</td><td>0</td></tr><tr><td>&quot;2015-01-28&quot;</td><td>1050614</td><td>&quot;N&quot;</td><td>&quot;ES&quot;</td><td>&quot;V&quot;</td><td>&quot; 23&quot;</td><td>&quot;2012-08-10&quot;</td><td>&quot; 0&quot;</td><td>&quot;     35&quot;</td><td>&quot; 1&quot;</td><td>null</td><td>1.0</td><td>&quot;A&quot;</td><td>&quot;S&quot;</td><td>&quot;N&quot;</td><td>null</td><td>&quot;KHE&quot;</td><td>&quot;N&quot;</td><td>&quot; 1&quot;</td><td>&quot;50&quot;</td><td>&quot;ZARAGOZA&quot;</td><td>&quot; 1&quot;</td><td>null</td><td>&quot;03 - UNIVERSITARIO&quot;</td><td>0</td><td>0</td><td>1</td><td>0</td><td>0</td><td>0</td><td>0</td><td>0</td><td>0</td><td>0</td><td>0</td><td>0</td><td>0</td><td>0</td><td>0</td><td>0</td><td>0</td><td>0</td><td>0</td><td>0</td><td>0</td><td>&quot; 0&quot;</td><td>&quot; 0&quot;</td><td>0</td></tr></tbody></table></div>"
      ],
      "text/plain": [
       "shape: (5, 48)\n",
       "┌───────────┬──────────┬───────────┬───────────┬───┬───────────┬───────────┬───────────┬───────────┐\n",
       "│ fecha_dat ┆ ncodpers ┆ ind_emple ┆ pais_resi ┆ … ┆ ind_viv_f ┆ ind_nomin ┆ ind_nom_p ┆ ind_recib │\n",
       "│ o         ┆ ---      ┆ ado       ┆ dencia    ┆   ┆ in_ult1   ┆ a_ult1    ┆ ens_ult1  ┆ o_ult1    │\n",
       "│ ---       ┆ i64      ┆ ---       ┆ ---       ┆   ┆ ---       ┆ ---       ┆ ---       ┆ ---       │\n",
       "│ str       ┆          ┆ str       ┆ str       ┆   ┆ i64       ┆ str       ┆ str       ┆ i64       │\n",
       "╞═══════════╪══════════╪═══════════╪═══════════╪═══╪═══════════╪═══════════╪═══════════╪═══════════╡\n",
       "│ 2015-01-2 ┆ 1375586  ┆ N         ┆ ES        ┆ … ┆ 0         ┆  0        ┆  0        ┆ 0         │\n",
       "│ 8         ┆          ┆           ┆           ┆   ┆           ┆           ┆           ┆           │\n",
       "│ 2015-01-2 ┆ 1050611  ┆ N         ┆ ES        ┆ … ┆ 0         ┆  0        ┆  0        ┆ 0         │\n",
       "│ 8         ┆          ┆           ┆           ┆   ┆           ┆           ┆           ┆           │\n",
       "│ 2015-01-2 ┆ 1050612  ┆ N         ┆ ES        ┆ … ┆ 0         ┆  0        ┆  0        ┆ 0         │\n",
       "│ 8         ┆          ┆           ┆           ┆   ┆           ┆           ┆           ┆           │\n",
       "│ 2015-01-2 ┆ 1050613  ┆ N         ┆ ES        ┆ … ┆ 0         ┆  0        ┆  0        ┆ 0         │\n",
       "│ 8         ┆          ┆           ┆           ┆   ┆           ┆           ┆           ┆           │\n",
       "│ 2015-01-2 ┆ 1050614  ┆ N         ┆ ES        ┆ … ┆ 0         ┆  0        ┆  0        ┆ 0         │\n",
       "│ 8         ┆          ┆           ┆           ┆   ┆           ┆           ┆           ┆           │\n",
       "└───────────┴──────────┴───────────┴───────────┴───┴───────────┴───────────┴───────────┴───────────┘"
      ]
     },
     "execution_count": 3,
     "metadata": {},
     "output_type": "execute_result"
    }
   ],
   "source": [
    "df.head()"
   ]
  },
  {
   "cell_type": "code",
   "execution_count": 7,
   "metadata": {},
   "outputs": [
    {
     "name": "stdout",
     "output_type": "stream",
     "text": [
      "3,634.21 size in mb\n"
     ]
    }
   ],
   "source": [
    "print(f'{round(df.estimated_size(\"mb\"), 2):,} size in mb')"
   ]
  },
  {
   "cell_type": "code",
   "execution_count": 8,
   "metadata": {},
   "outputs": [
    {
     "name": "stdout",
     "output_type": "stream",
     "text": [
      "['ncodpers', 'ind_ahor_fin_ult1', 'ind_aval_fin_ult1', 'ind_cco_fin_ult1', 'ind_cder_fin_ult1', 'ind_cno_fin_ult1', 'ind_ctju_fin_ult1', 'ind_ctma_fin_ult1', 'ind_ctop_fin_ult1', 'ind_ctpp_fin_ult1', 'ind_deco_fin_ult1', 'ind_deme_fin_ult1', 'ind_dela_fin_ult1', 'ind_ecue_fin_ult1', 'ind_fond_fin_ult1', 'ind_hip_fin_ult1', 'ind_plan_fin_ult1', 'ind_pres_fin_ult1', 'ind_reca_fin_ult1', 'ind_tjcr_fin_ult1', 'ind_valo_fin_ult1', 'ind_viv_fin_ult1', 'ind_nomina_ult1', 'ind_nom_pens_ult1', 'ind_recibo_ult1']\n"
     ]
    }
   ],
   "source": [
    "cols_str = 'ncodpers\tind_ahor_fin_ult1\tind_aval_fin_ult1\tind_cco_fin_ult1\tind_cder_fin_ult1\tind_cno_fin_ult1\tind_ctju_fin_ult1\tind_ctma_fin_ult1\tind_ctop_fin_ult1\tind_ctpp_fin_ult1\tind_deco_fin_ult1\tind_deme_fin_ult1\tind_dela_fin_ult1\tind_ecue_fin_ult1\tind_fond_fin_ult1\tind_hip_fin_ult1\tind_plan_fin_ult1\tind_pres_fin_ult1\tind_reca_fin_ult1\tind_tjcr_fin_ult1\tind_valo_fin_ult1\tind_viv_fin_ult1\tind_nomina_ult1\tind_nom_pens_ult1\tind_recibo_ult1'\n",
    "cols_list = cols_str.replace(\"\t\", ',').split(',')\n",
    "print(cols_list)"
   ]
  },
  {
   "cell_type": "code",
   "execution_count": 9,
   "metadata": {},
   "outputs": [
    {
     "data": {
      "text/plain": [
       "1407"
      ]
     },
     "execution_count": 9,
     "metadata": {},
     "output_type": "execute_result"
    }
   ],
   "source": [
    "import gc\n",
    "df2 = df.select(cols_list)\n",
    "del df\n",
    "gc.collect()"
   ]
  },
  {
   "cell_type": "code",
   "execution_count": 10,
   "metadata": {},
   "outputs": [
    {
     "data": {
      "text/html": [
       "<div><style>\n",
       ".dataframe > thead > tr,\n",
       ".dataframe > tbody > tr {\n",
       "  text-align: right;\n",
       "  white-space: pre-wrap;\n",
       "}\n",
       "</style>\n",
       "<small>shape: (5, 25)</small><table border=\"1\" class=\"dataframe\"><thead><tr><th>ncodpers</th><th>ind_ahor_fin_ult1</th><th>ind_aval_fin_ult1</th><th>ind_cco_fin_ult1</th><th>ind_cder_fin_ult1</th><th>ind_cno_fin_ult1</th><th>ind_ctju_fin_ult1</th><th>ind_ctma_fin_ult1</th><th>ind_ctop_fin_ult1</th><th>ind_ctpp_fin_ult1</th><th>ind_deco_fin_ult1</th><th>ind_deme_fin_ult1</th><th>ind_dela_fin_ult1</th><th>ind_ecue_fin_ult1</th><th>ind_fond_fin_ult1</th><th>ind_hip_fin_ult1</th><th>ind_plan_fin_ult1</th><th>ind_pres_fin_ult1</th><th>ind_reca_fin_ult1</th><th>ind_tjcr_fin_ult1</th><th>ind_valo_fin_ult1</th><th>ind_viv_fin_ult1</th><th>ind_nomina_ult1</th><th>ind_nom_pens_ult1</th><th>ind_recibo_ult1</th></tr><tr><td>i64</td><td>i64</td><td>i64</td><td>i64</td><td>i64</td><td>i64</td><td>i64</td><td>i64</td><td>i64</td><td>i64</td><td>i64</td><td>i64</td><td>i64</td><td>i64</td><td>i64</td><td>i64</td><td>i64</td><td>i64</td><td>i64</td><td>i64</td><td>i64</td><td>i64</td><td>str</td><td>str</td><td>i64</td></tr></thead><tbody><tr><td>1375586</td><td>0</td><td>0</td><td>1</td><td>0</td><td>0</td><td>0</td><td>0</td><td>0</td><td>0</td><td>0</td><td>0</td><td>0</td><td>0</td><td>0</td><td>0</td><td>0</td><td>0</td><td>0</td><td>0</td><td>0</td><td>0</td><td>&quot; 0&quot;</td><td>&quot; 0&quot;</td><td>0</td></tr><tr><td>1050611</td><td>0</td><td>0</td><td>1</td><td>0</td><td>0</td><td>0</td><td>0</td><td>0</td><td>0</td><td>0</td><td>0</td><td>0</td><td>0</td><td>0</td><td>0</td><td>0</td><td>0</td><td>0</td><td>0</td><td>0</td><td>0</td><td>&quot; 0&quot;</td><td>&quot; 0&quot;</td><td>0</td></tr><tr><td>1050612</td><td>0</td><td>0</td><td>1</td><td>0</td><td>0</td><td>0</td><td>0</td><td>0</td><td>0</td><td>0</td><td>0</td><td>0</td><td>0</td><td>0</td><td>0</td><td>0</td><td>0</td><td>0</td><td>0</td><td>0</td><td>0</td><td>&quot; 0&quot;</td><td>&quot; 0&quot;</td><td>0</td></tr><tr><td>1050613</td><td>0</td><td>0</td><td>0</td><td>0</td><td>0</td><td>0</td><td>0</td><td>0</td><td>0</td><td>1</td><td>0</td><td>0</td><td>0</td><td>0</td><td>0</td><td>0</td><td>0</td><td>0</td><td>0</td><td>0</td><td>0</td><td>&quot; 0&quot;</td><td>&quot; 0&quot;</td><td>0</td></tr><tr><td>1050614</td><td>0</td><td>0</td><td>1</td><td>0</td><td>0</td><td>0</td><td>0</td><td>0</td><td>0</td><td>0</td><td>0</td><td>0</td><td>0</td><td>0</td><td>0</td><td>0</td><td>0</td><td>0</td><td>0</td><td>0</td><td>0</td><td>&quot; 0&quot;</td><td>&quot; 0&quot;</td><td>0</td></tr></tbody></table></div>"
      ],
      "text/plain": [
       "shape: (5, 25)\n",
       "┌──────────┬───────────┬───────────┬───────────┬───┬───────────┬───────────┬───────────┬───────────┐\n",
       "│ ncodpers ┆ ind_ahor_ ┆ ind_aval_ ┆ ind_cco_f ┆ … ┆ ind_viv_f ┆ ind_nomin ┆ ind_nom_p ┆ ind_recib │\n",
       "│ ---      ┆ fin_ult1  ┆ fin_ult1  ┆ in_ult1   ┆   ┆ in_ult1   ┆ a_ult1    ┆ ens_ult1  ┆ o_ult1    │\n",
       "│ i64      ┆ ---       ┆ ---       ┆ ---       ┆   ┆ ---       ┆ ---       ┆ ---       ┆ ---       │\n",
       "│          ┆ i64       ┆ i64       ┆ i64       ┆   ┆ i64       ┆ str       ┆ str       ┆ i64       │\n",
       "╞══════════╪═══════════╪═══════════╪═══════════╪═══╪═══════════╪═══════════╪═══════════╪═══════════╡\n",
       "│ 1375586  ┆ 0         ┆ 0         ┆ 1         ┆ … ┆ 0         ┆  0        ┆  0        ┆ 0         │\n",
       "│ 1050611  ┆ 0         ┆ 0         ┆ 1         ┆ … ┆ 0         ┆  0        ┆  0        ┆ 0         │\n",
       "│ 1050612  ┆ 0         ┆ 0         ┆ 1         ┆ … ┆ 0         ┆  0        ┆  0        ┆ 0         │\n",
       "│ 1050613  ┆ 0         ┆ 0         ┆ 0         ┆ … ┆ 0         ┆  0        ┆  0        ┆ 0         │\n",
       "│ 1050614  ┆ 0         ┆ 0         ┆ 1         ┆ … ┆ 0         ┆  0        ┆  0        ┆ 0         │\n",
       "└──────────┴───────────┴───────────┴───────────┴───┴───────────┴───────────┴───────────┴───────────┘"
      ]
     },
     "execution_count": 10,
     "metadata": {},
     "output_type": "execute_result"
    }
   ],
   "source": [
    "df2.head()"
   ]
  },
  {
   "cell_type": "code",
   "execution_count": 14,
   "metadata": {},
   "outputs": [
    {
     "name": "stdout",
     "output_type": "stream",
     "text": [
      "2,446.84 size in mb\n"
     ]
    }
   ],
   "source": [
    "print(f'{round(df2.estimated_size(\"mb\"), 2):,} size in mb')"
   ]
  },
  {
   "cell_type": "code",
   "execution_count": 15,
   "metadata": {},
   "outputs": [
    {
     "name": "stdout",
     "output_type": "stream",
     "text": [
      "13,647,309 record\n"
     ]
    }
   ],
   "source": [
    "print(f'{df2.shape[0]:,} record')"
   ]
  },
  {
   "cell_type": "code",
   "execution_count": 17,
   "metadata": {},
   "outputs": [
    {
     "name": "stdout",
     "output_type": "stream",
     "text": [
      "956,645 unique users\n"
     ]
    }
   ],
   "source": [
    "print(f'{df2[\"ncodpers\"].n_unique():,} unique users')"
   ]
  },
  {
   "cell_type": "code",
   "execution_count": 18,
   "metadata": {},
   "outputs": [],
   "source": [
    "for col in ['ind_nomina_ult1', 'ind_nom_pens_ult1']:\n",
    "    df2 = df2.with_columns(\n",
    "        pl.col(col).str.replace(\" \", \"\").alias(col),\n",
    "    )"
   ]
  },
  {
   "cell_type": "code",
   "execution_count": 19,
   "metadata": {},
   "outputs": [
    {
     "name": "stderr",
     "output_type": "stream",
     "text": [
      "C:\\Users\\hima\\AppData\\Local\\Temp\\ipykernel_6220\\1976992179.py:3: DeprecationWarning: `map_dict` is deprecated. It has been renamed to `replace`. The default behavior has changed to keep any values not present in the mapping unchanged. Pass `default=None` to keep existing behavior.\n",
      "  pl.col(col).map_dict({\"NA\": 0, \"0\": 0, \"1\": 1}),\n"
     ]
    }
   ],
   "source": [
    "for col in ['ind_nomina_ult1', 'ind_nom_pens_ult1']:\n",
    "    df2 = df2.with_columns(\n",
    "        pl.col(col).map_dict({\"NA\": 0, \"0\": 0, \"1\": 1}),\n",
    "    )"
   ]
  },
  {
   "cell_type": "code",
   "execution_count": 20,
   "metadata": {},
   "outputs": [
    {
     "name": "stdout",
     "output_type": "stream",
     "text": [
      "2,603.02 size in mb\n"
     ]
    }
   ],
   "source": [
    "print(f'{round(df2.estimated_size(\"mb\"), 2):,} size in mb')"
   ]
  },
  {
   "cell_type": "code",
   "execution_count": 21,
   "metadata": {},
   "outputs": [
    {
     "data": {
      "text/html": [
       "<div><style>\n",
       ".dataframe > thead > tr,\n",
       ".dataframe > tbody > tr {\n",
       "  text-align: right;\n",
       "  white-space: pre-wrap;\n",
       "}\n",
       "</style>\n",
       "<small>shape: (5, 25)</small><table border=\"1\" class=\"dataframe\"><thead><tr><th>ncodpers</th><th>ind_ahor_fin_ult1</th><th>ind_aval_fin_ult1</th><th>ind_cco_fin_ult1</th><th>ind_cder_fin_ult1</th><th>ind_cno_fin_ult1</th><th>ind_ctju_fin_ult1</th><th>ind_ctma_fin_ult1</th><th>ind_ctop_fin_ult1</th><th>ind_ctpp_fin_ult1</th><th>ind_deco_fin_ult1</th><th>ind_deme_fin_ult1</th><th>ind_dela_fin_ult1</th><th>ind_ecue_fin_ult1</th><th>ind_fond_fin_ult1</th><th>ind_hip_fin_ult1</th><th>ind_plan_fin_ult1</th><th>ind_pres_fin_ult1</th><th>ind_reca_fin_ult1</th><th>ind_tjcr_fin_ult1</th><th>ind_valo_fin_ult1</th><th>ind_viv_fin_ult1</th><th>ind_nomina_ult1</th><th>ind_nom_pens_ult1</th><th>ind_recibo_ult1</th></tr><tr><td>i64</td><td>i64</td><td>i64</td><td>i64</td><td>i64</td><td>i64</td><td>i64</td><td>i64</td><td>i64</td><td>i64</td><td>i64</td><td>i64</td><td>i64</td><td>i64</td><td>i64</td><td>i64</td><td>i64</td><td>i64</td><td>i64</td><td>i64</td><td>i64</td><td>i64</td><td>i64</td><td>i64</td><td>i64</td></tr></thead><tbody><tr><td>1375586</td><td>0</td><td>0</td><td>1</td><td>0</td><td>0</td><td>0</td><td>0</td><td>0</td><td>0</td><td>0</td><td>0</td><td>0</td><td>0</td><td>0</td><td>0</td><td>0</td><td>0</td><td>0</td><td>0</td><td>0</td><td>0</td><td>0</td><td>0</td><td>0</td></tr><tr><td>1050611</td><td>0</td><td>0</td><td>1</td><td>0</td><td>0</td><td>0</td><td>0</td><td>0</td><td>0</td><td>0</td><td>0</td><td>0</td><td>0</td><td>0</td><td>0</td><td>0</td><td>0</td><td>0</td><td>0</td><td>0</td><td>0</td><td>0</td><td>0</td><td>0</td></tr><tr><td>1050612</td><td>0</td><td>0</td><td>1</td><td>0</td><td>0</td><td>0</td><td>0</td><td>0</td><td>0</td><td>0</td><td>0</td><td>0</td><td>0</td><td>0</td><td>0</td><td>0</td><td>0</td><td>0</td><td>0</td><td>0</td><td>0</td><td>0</td><td>0</td><td>0</td></tr><tr><td>1050613</td><td>0</td><td>0</td><td>0</td><td>0</td><td>0</td><td>0</td><td>0</td><td>0</td><td>0</td><td>1</td><td>0</td><td>0</td><td>0</td><td>0</td><td>0</td><td>0</td><td>0</td><td>0</td><td>0</td><td>0</td><td>0</td><td>0</td><td>0</td><td>0</td></tr><tr><td>1050614</td><td>0</td><td>0</td><td>1</td><td>0</td><td>0</td><td>0</td><td>0</td><td>0</td><td>0</td><td>0</td><td>0</td><td>0</td><td>0</td><td>0</td><td>0</td><td>0</td><td>0</td><td>0</td><td>0</td><td>0</td><td>0</td><td>0</td><td>0</td><td>0</td></tr></tbody></table></div>"
      ],
      "text/plain": [
       "shape: (5, 25)\n",
       "┌──────────┬───────────┬───────────┬───────────┬───┬───────────┬───────────┬───────────┬───────────┐\n",
       "│ ncodpers ┆ ind_ahor_ ┆ ind_aval_ ┆ ind_cco_f ┆ … ┆ ind_viv_f ┆ ind_nomin ┆ ind_nom_p ┆ ind_recib │\n",
       "│ ---      ┆ fin_ult1  ┆ fin_ult1  ┆ in_ult1   ┆   ┆ in_ult1   ┆ a_ult1    ┆ ens_ult1  ┆ o_ult1    │\n",
       "│ i64      ┆ ---       ┆ ---       ┆ ---       ┆   ┆ ---       ┆ ---       ┆ ---       ┆ ---       │\n",
       "│          ┆ i64       ┆ i64       ┆ i64       ┆   ┆ i64       ┆ i64       ┆ i64       ┆ i64       │\n",
       "╞══════════╪═══════════╪═══════════╪═══════════╪═══╪═══════════╪═══════════╪═══════════╪═══════════╡\n",
       "│ 1375586  ┆ 0         ┆ 0         ┆ 1         ┆ … ┆ 0         ┆ 0         ┆ 0         ┆ 0         │\n",
       "│ 1050611  ┆ 0         ┆ 0         ┆ 1         ┆ … ┆ 0         ┆ 0         ┆ 0         ┆ 0         │\n",
       "│ 1050612  ┆ 0         ┆ 0         ┆ 1         ┆ … ┆ 0         ┆ 0         ┆ 0         ┆ 0         │\n",
       "│ 1050613  ┆ 0         ┆ 0         ┆ 0         ┆ … ┆ 0         ┆ 0         ┆ 0         ┆ 0         │\n",
       "│ 1050614  ┆ 0         ┆ 0         ┆ 1         ┆ … ┆ 0         ┆ 0         ┆ 0         ┆ 0         │\n",
       "└──────────┴───────────┴───────────┴───────────┴───┴───────────┴───────────┴───────────┴───────────┘"
      ]
     },
     "execution_count": 21,
     "metadata": {},
     "output_type": "execute_result"
    }
   ],
   "source": [
    "df2.head()"
   ]
  },
  {
   "cell_type": "code",
   "execution_count": 22,
   "metadata": {},
   "outputs": [],
   "source": [
    "for col in cols_list[1:]:\n",
    "    df2 = df2.with_columns(\n",
    "        pl.col(col).cast(pl.Boolean).alias(col),\n",
    "    )"
   ]
  },
  {
   "cell_type": "code",
   "execution_count": 23,
   "metadata": {},
   "outputs": [
    {
     "name": "stdout",
     "output_type": "stream",
     "text": [
      "143.17 size in mb\n"
     ]
    }
   ],
   "source": [
    "print(f'{round(df2.estimated_size(\"mb\"), 2):,} size in mb')"
   ]
  },
  {
   "cell_type": "code",
   "execution_count": 24,
   "metadata": {},
   "outputs": [
    {
     "data": {
      "text/html": [
       "<div><style>\n",
       ".dataframe > thead > tr,\n",
       ".dataframe > tbody > tr {\n",
       "  text-align: right;\n",
       "  white-space: pre-wrap;\n",
       "}\n",
       "</style>\n",
       "<small>shape: (5, 25)</small><table border=\"1\" class=\"dataframe\"><thead><tr><th>ncodpers</th><th>ind_ahor_fin_ult1</th><th>ind_aval_fin_ult1</th><th>ind_cco_fin_ult1</th><th>ind_cder_fin_ult1</th><th>ind_cno_fin_ult1</th><th>ind_ctju_fin_ult1</th><th>ind_ctma_fin_ult1</th><th>ind_ctop_fin_ult1</th><th>ind_ctpp_fin_ult1</th><th>ind_deco_fin_ult1</th><th>ind_deme_fin_ult1</th><th>ind_dela_fin_ult1</th><th>ind_ecue_fin_ult1</th><th>ind_fond_fin_ult1</th><th>ind_hip_fin_ult1</th><th>ind_plan_fin_ult1</th><th>ind_pres_fin_ult1</th><th>ind_reca_fin_ult1</th><th>ind_tjcr_fin_ult1</th><th>ind_valo_fin_ult1</th><th>ind_viv_fin_ult1</th><th>ind_nomina_ult1</th><th>ind_nom_pens_ult1</th><th>ind_recibo_ult1</th></tr><tr><td>i64</td><td>bool</td><td>bool</td><td>bool</td><td>bool</td><td>bool</td><td>bool</td><td>bool</td><td>bool</td><td>bool</td><td>bool</td><td>bool</td><td>bool</td><td>bool</td><td>bool</td><td>bool</td><td>bool</td><td>bool</td><td>bool</td><td>bool</td><td>bool</td><td>bool</td><td>bool</td><td>bool</td><td>bool</td></tr></thead><tbody><tr><td>1375586</td><td>false</td><td>false</td><td>true</td><td>false</td><td>false</td><td>false</td><td>false</td><td>false</td><td>false</td><td>false</td><td>false</td><td>false</td><td>false</td><td>false</td><td>false</td><td>false</td><td>false</td><td>false</td><td>false</td><td>false</td><td>false</td><td>false</td><td>false</td><td>false</td></tr><tr><td>1050611</td><td>false</td><td>false</td><td>true</td><td>false</td><td>false</td><td>false</td><td>false</td><td>false</td><td>false</td><td>false</td><td>false</td><td>false</td><td>false</td><td>false</td><td>false</td><td>false</td><td>false</td><td>false</td><td>false</td><td>false</td><td>false</td><td>false</td><td>false</td><td>false</td></tr><tr><td>1050612</td><td>false</td><td>false</td><td>true</td><td>false</td><td>false</td><td>false</td><td>false</td><td>false</td><td>false</td><td>false</td><td>false</td><td>false</td><td>false</td><td>false</td><td>false</td><td>false</td><td>false</td><td>false</td><td>false</td><td>false</td><td>false</td><td>false</td><td>false</td><td>false</td></tr><tr><td>1050613</td><td>false</td><td>false</td><td>false</td><td>false</td><td>false</td><td>false</td><td>false</td><td>false</td><td>false</td><td>true</td><td>false</td><td>false</td><td>false</td><td>false</td><td>false</td><td>false</td><td>false</td><td>false</td><td>false</td><td>false</td><td>false</td><td>false</td><td>false</td><td>false</td></tr><tr><td>1050614</td><td>false</td><td>false</td><td>true</td><td>false</td><td>false</td><td>false</td><td>false</td><td>false</td><td>false</td><td>false</td><td>false</td><td>false</td><td>false</td><td>false</td><td>false</td><td>false</td><td>false</td><td>false</td><td>false</td><td>false</td><td>false</td><td>false</td><td>false</td><td>false</td></tr></tbody></table></div>"
      ],
      "text/plain": [
       "shape: (5, 25)\n",
       "┌──────────┬───────────┬───────────┬───────────┬───┬───────────┬───────────┬───────────┬───────────┐\n",
       "│ ncodpers ┆ ind_ahor_ ┆ ind_aval_ ┆ ind_cco_f ┆ … ┆ ind_viv_f ┆ ind_nomin ┆ ind_nom_p ┆ ind_recib │\n",
       "│ ---      ┆ fin_ult1  ┆ fin_ult1  ┆ in_ult1   ┆   ┆ in_ult1   ┆ a_ult1    ┆ ens_ult1  ┆ o_ult1    │\n",
       "│ i64      ┆ ---       ┆ ---       ┆ ---       ┆   ┆ ---       ┆ ---       ┆ ---       ┆ ---       │\n",
       "│          ┆ bool      ┆ bool      ┆ bool      ┆   ┆ bool      ┆ bool      ┆ bool      ┆ bool      │\n",
       "╞══════════╪═══════════╪═══════════╪═══════════╪═══╪═══════════╪═══════════╪═══════════╪═══════════╡\n",
       "│ 1375586  ┆ false     ┆ false     ┆ true      ┆ … ┆ false     ┆ false     ┆ false     ┆ false     │\n",
       "│ 1050611  ┆ false     ┆ false     ┆ true      ┆ … ┆ false     ┆ false     ┆ false     ┆ false     │\n",
       "│ 1050612  ┆ false     ┆ false     ┆ true      ┆ … ┆ false     ┆ false     ┆ false     ┆ false     │\n",
       "│ 1050613  ┆ false     ┆ false     ┆ false     ┆ … ┆ false     ┆ false     ┆ false     ┆ false     │\n",
       "│ 1050614  ┆ false     ┆ false     ┆ true      ┆ … ┆ false     ┆ false     ┆ false     ┆ false     │\n",
       "└──────────┴───────────┴───────────┴───────────┴───┴───────────┴───────────┴───────────┴───────────┘"
      ]
     },
     "execution_count": 24,
     "metadata": {},
     "output_type": "execute_result"
    }
   ],
   "source": [
    "df2.head()"
   ]
  },
  {
   "cell_type": "code",
   "execution_count": 29,
   "metadata": {},
   "outputs": [
    {
     "name": "stdout",
     "output_type": "stream",
     "text": [
      "Improvement in storage: 2459.85 MB\n",
      "Percentage improvement: 94.50% in storage\n"
     ]
    }
   ],
   "source": [
    "def calculate_improvement(initial_storage_mb, final_storage_mb):\n",
    "    # Calculate absolute improvement (reduction in storage)\n",
    "    improvement_mb = initial_storage_mb - final_storage_mb\n",
    "\n",
    "    # Calculate percentage improvement\n",
    "    if initial_storage_mb != 0:\n",
    "        improvement_percentage = (improvement_mb / initial_storage_mb) * 100\n",
    "    else:\n",
    "        improvement_percentage = 0\n",
    "\n",
    "    return improvement_mb, improvement_percentage\n",
    "\n",
    "\n",
    "initial_storage = 2_603.02  # Initial storage in MB\n",
    "final_storage = 143.17      # Final storage in MB\n",
    "\n",
    "improvement_mb, improvement_percentage = calculate_improvement(\n",
    "    initial_storage, final_storage)\n",
    "\n",
    "print(f\"Improvement in storage: {improvement_mb} MB\")\n",
    "print(f\"Percentage improvement: {improvement_percentage:.2f}% in storage\")"
   ]
  },
  {
   "cell_type": "code",
   "execution_count": 30,
   "metadata": {},
   "outputs": [
    {
     "name": "stdout",
     "output_type": "stream",
     "text": [
      "['ind_ahor_fin_ult1', 'ind_aval_fin_ult1', 'ind_cco_fin_ult1', 'ind_cder_fin_ult1', 'ind_cno_fin_ult1', 'ind_ctju_fin_ult1', 'ind_ctma_fin_ult1', 'ind_ctop_fin_ult1', 'ind_ctpp_fin_ult1', 'ind_deco_fin_ult1', 'ind_deme_fin_ult1', 'ind_dela_fin_ult1', 'ind_ecue_fin_ult1', 'ind_fond_fin_ult1', 'ind_hip_fin_ult1', 'ind_plan_fin_ult1', 'ind_pres_fin_ult1', 'ind_reca_fin_ult1', 'ind_tjcr_fin_ult1', 'ind_valo_fin_ult1', 'ind_viv_fin_ult1', 'ind_nomina_ult1', 'ind_nom_pens_ult1', 'ind_recibo_ult1']\n"
     ]
    }
   ],
   "source": [
    "prod_cols = cols_list[1:]\n",
    "print(prod_cols)"
   ]
  },
  {
   "cell_type": "code",
   "execution_count": 66,
   "metadata": {},
   "outputs": [
    {
     "data": {
      "text/plain": [
       "polars.config.Config"
      ]
     },
     "execution_count": 66,
     "metadata": {},
     "output_type": "execute_result"
    }
   ],
   "source": [
    "pl.Config.set_tbl_rows(100)"
   ]
  },
  {
   "cell_type": "code",
   "execution_count": 31,
   "metadata": {},
   "outputs": [],
   "source": [
    "prod_sum = df2.group_by(\"ncodpers\",).sum()"
   ]
  },
  {
   "cell_type": "code",
   "execution_count": 33,
   "metadata": {},
   "outputs": [
    {
     "data": {
      "text/html": [
       "<div><style>\n",
       ".dataframe > thead > tr,\n",
       ".dataframe > tbody > tr {\n",
       "  text-align: right;\n",
       "  white-space: pre-wrap;\n",
       "}\n",
       "</style>\n",
       "<small>shape: (10, 25)</small><table border=\"1\" class=\"dataframe\"><thead><tr><th>ncodpers</th><th>ind_ahor_fin_ult1</th><th>ind_aval_fin_ult1</th><th>ind_cco_fin_ult1</th><th>ind_cder_fin_ult1</th><th>ind_cno_fin_ult1</th><th>ind_ctju_fin_ult1</th><th>ind_ctma_fin_ult1</th><th>ind_ctop_fin_ult1</th><th>ind_ctpp_fin_ult1</th><th>ind_deco_fin_ult1</th><th>ind_deme_fin_ult1</th><th>ind_dela_fin_ult1</th><th>ind_ecue_fin_ult1</th><th>ind_fond_fin_ult1</th><th>ind_hip_fin_ult1</th><th>ind_plan_fin_ult1</th><th>ind_pres_fin_ult1</th><th>ind_reca_fin_ult1</th><th>ind_tjcr_fin_ult1</th><th>ind_valo_fin_ult1</th><th>ind_viv_fin_ult1</th><th>ind_nomina_ult1</th><th>ind_nom_pens_ult1</th><th>ind_recibo_ult1</th></tr><tr><td>i64</td><td>u32</td><td>u32</td><td>u32</td><td>u32</td><td>u32</td><td>u32</td><td>u32</td><td>u32</td><td>u32</td><td>u32</td><td>u32</td><td>u32</td><td>u32</td><td>u32</td><td>u32</td><td>u32</td><td>u32</td><td>u32</td><td>u32</td><td>u32</td><td>u32</td><td>u32</td><td>u32</td><td>u32</td></tr></thead><tbody><tr><td>235441</td><td>0</td><td>0</td><td>17</td><td>0</td><td>0</td><td>0</td><td>0</td><td>0</td><td>0</td><td>0</td><td>0</td><td>0</td><td>0</td><td>0</td><td>0</td><td>0</td><td>0</td><td>0</td><td>0</td><td>0</td><td>0</td><td>0</td><td>0</td><td>5</td></tr><tr><td>688325</td><td>0</td><td>0</td><td>0</td><td>0</td><td>0</td><td>0</td><td>0</td><td>0</td><td>0</td><td>0</td><td>0</td><td>0</td><td>0</td><td>0</td><td>0</td><td>0</td><td>0</td><td>0</td><td>0</td><td>0</td><td>0</td><td>0</td><td>0</td><td>0</td></tr><tr><td>1203196</td><td>0</td><td>0</td><td>17</td><td>0</td><td>0</td><td>0</td><td>0</td><td>0</td><td>0</td><td>0</td><td>0</td><td>0</td><td>0</td><td>0</td><td>0</td><td>0</td><td>0</td><td>0</td><td>0</td><td>0</td><td>0</td><td>0</td><td>0</td><td>0</td></tr><tr><td>932796</td><td>0</td><td>0</td><td>17</td><td>0</td><td>0</td><td>0</td><td>0</td><td>0</td><td>0</td><td>0</td><td>0</td><td>0</td><td>0</td><td>0</td><td>0</td><td>0</td><td>0</td><td>0</td><td>0</td><td>0</td><td>0</td><td>0</td><td>0</td><td>0</td></tr><tr><td>1185898</td><td>0</td><td>0</td><td>11</td><td>0</td><td>0</td><td>0</td><td>0</td><td>0</td><td>0</td><td>0</td><td>0</td><td>0</td><td>0</td><td>0</td><td>0</td><td>0</td><td>0</td><td>0</td><td>0</td><td>0</td><td>0</td><td>0</td><td>0</td><td>16</td></tr><tr><td>419589</td><td>0</td><td>0</td><td>0</td><td>0</td><td>0</td><td>0</td><td>0</td><td>17</td><td>0</td><td>0</td><td>0</td><td>0</td><td>0</td><td>0</td><td>0</td><td>0</td><td>0</td><td>0</td><td>0</td><td>0</td><td>0</td><td>0</td><td>0</td><td>0</td></tr><tr><td>1299398</td><td>0</td><td>0</td><td>17</td><td>0</td><td>0</td><td>0</td><td>0</td><td>0</td><td>0</td><td>0</td><td>0</td><td>0</td><td>0</td><td>0</td><td>0</td><td>0</td><td>0</td><td>0</td><td>0</td><td>0</td><td>0</td><td>0</td><td>0</td><td>0</td></tr><tr><td>1254066</td><td>0</td><td>0</td><td>0</td><td>0</td><td>0</td><td>0</td><td>0</td><td>0</td><td>0</td><td>0</td><td>0</td><td>0</td><td>0</td><td>0</td><td>0</td><td>0</td><td>0</td><td>0</td><td>0</td><td>0</td><td>0</td><td>0</td><td>0</td><td>0</td></tr><tr><td>635633</td><td>0</td><td>0</td><td>17</td><td>0</td><td>0</td><td>0</td><td>0</td><td>0</td><td>0</td><td>0</td><td>0</td><td>0</td><td>0</td><td>17</td><td>0</td><td>0</td><td>0</td><td>0</td><td>0</td><td>0</td><td>0</td><td>0</td><td>0</td><td>0</td></tr><tr><td>185485</td><td>0</td><td>0</td><td>0</td><td>0</td><td>17</td><td>0</td><td>0</td><td>0</td><td>0</td><td>0</td><td>0</td><td>0</td><td>0</td><td>0</td><td>0</td><td>0</td><td>0</td><td>12</td><td>0</td><td>0</td><td>0</td><td>0</td><td>14</td><td>17</td></tr></tbody></table></div>"
      ],
      "text/plain": [
       "shape: (10, 25)\n",
       "┌──────────┬───────────┬───────────┬───────────┬───┬───────────┬───────────┬───────────┬───────────┐\n",
       "│ ncodpers ┆ ind_ahor_ ┆ ind_aval_ ┆ ind_cco_f ┆ … ┆ ind_viv_f ┆ ind_nomin ┆ ind_nom_p ┆ ind_recib │\n",
       "│ ---      ┆ fin_ult1  ┆ fin_ult1  ┆ in_ult1   ┆   ┆ in_ult1   ┆ a_ult1    ┆ ens_ult1  ┆ o_ult1    │\n",
       "│ i64      ┆ ---       ┆ ---       ┆ ---       ┆   ┆ ---       ┆ ---       ┆ ---       ┆ ---       │\n",
       "│          ┆ u32       ┆ u32       ┆ u32       ┆   ┆ u32       ┆ u32       ┆ u32       ┆ u32       │\n",
       "╞══════════╪═══════════╪═══════════╪═══════════╪═══╪═══════════╪═══════════╪═══════════╪═══════════╡\n",
       "│ 235441   ┆ 0         ┆ 0         ┆ 17        ┆ … ┆ 0         ┆ 0         ┆ 0         ┆ 5         │\n",
       "│ 688325   ┆ 0         ┆ 0         ┆ 0         ┆ … ┆ 0         ┆ 0         ┆ 0         ┆ 0         │\n",
       "│ 1203196  ┆ 0         ┆ 0         ┆ 17        ┆ … ┆ 0         ┆ 0         ┆ 0         ┆ 0         │\n",
       "│ 932796   ┆ 0         ┆ 0         ┆ 17        ┆ … ┆ 0         ┆ 0         ┆ 0         ┆ 0         │\n",
       "│ 1185898  ┆ 0         ┆ 0         ┆ 11        ┆ … ┆ 0         ┆ 0         ┆ 0         ┆ 16        │\n",
       "│ 419589   ┆ 0         ┆ 0         ┆ 0         ┆ … ┆ 0         ┆ 0         ┆ 0         ┆ 0         │\n",
       "│ 1299398  ┆ 0         ┆ 0         ┆ 17        ┆ … ┆ 0         ┆ 0         ┆ 0         ┆ 0         │\n",
       "│ 1254066  ┆ 0         ┆ 0         ┆ 0         ┆ … ┆ 0         ┆ 0         ┆ 0         ┆ 0         │\n",
       "│ 635633   ┆ 0         ┆ 0         ┆ 17        ┆ … ┆ 0         ┆ 0         ┆ 0         ┆ 0         │\n",
       "│ 185485   ┆ 0         ┆ 0         ┆ 0         ┆ … ┆ 0         ┆ 0         ┆ 14        ┆ 17        │\n",
       "└──────────┴───────────┴───────────┴───────────┴───┴───────────┴───────────┴───────────┴───────────┘"
      ]
     },
     "execution_count": 33,
     "metadata": {},
     "output_type": "execute_result"
    }
   ],
   "source": [
    "prod_sum.head(10)"
   ]
  },
  {
   "cell_type": "code",
   "execution_count": null,
   "metadata": {},
   "outputs": [],
   "source": [
    "# uid, iid, indc "
   ]
  },
  {
   "cell_type": "code",
   "execution_count": 35,
   "metadata": {},
   "outputs": [
    {
     "data": {
      "text/plain": [
       "'22,959,480 new records can be generated'"
      ]
     },
     "execution_count": 35,
     "metadata": {},
     "output_type": "execute_result"
    }
   ],
   "source": [
    "s = prod_sum['ncodpers'].n_unique() * 24  # 24 product types\n",
    "f\"{s:,} new records can be generated\""
   ]
  },
  {
   "cell_type": "code",
   "execution_count": 36,
   "metadata": {},
   "outputs": [
    {
     "data": {
      "text/html": [
       "<div><style>\n",
       ".dataframe > thead > tr,\n",
       ".dataframe > tbody > tr {\n",
       "  text-align: right;\n",
       "  white-space: pre-wrap;\n",
       "}\n",
       "</style>\n",
       "<small>shape: (10, 3)</small><table border=\"1\" class=\"dataframe\"><thead><tr><th>ncodpers</th><th>variable</th><th>qty</th></tr><tr><td>i64</td><td>str</td><td>u32</td></tr></thead><tbody><tr><td>235441</td><td>&quot;ind_ahor_fin_ult1&quot;</td><td>0</td></tr><tr><td>688325</td><td>&quot;ind_ahor_fin_ult1&quot;</td><td>0</td></tr><tr><td>1203196</td><td>&quot;ind_ahor_fin_ult1&quot;</td><td>0</td></tr><tr><td>932796</td><td>&quot;ind_ahor_fin_ult1&quot;</td><td>0</td></tr><tr><td>1185898</td><td>&quot;ind_ahor_fin_ult1&quot;</td><td>0</td></tr><tr><td>419589</td><td>&quot;ind_ahor_fin_ult1&quot;</td><td>0</td></tr><tr><td>1299398</td><td>&quot;ind_ahor_fin_ult1&quot;</td><td>0</td></tr><tr><td>1254066</td><td>&quot;ind_ahor_fin_ult1&quot;</td><td>0</td></tr><tr><td>635633</td><td>&quot;ind_ahor_fin_ult1&quot;</td><td>0</td></tr><tr><td>185485</td><td>&quot;ind_ahor_fin_ult1&quot;</td><td>0</td></tr></tbody></table></div>"
      ],
      "text/plain": [
       "shape: (10, 3)\n",
       "┌──────────┬───────────────────┬─────┐\n",
       "│ ncodpers ┆ variable          ┆ qty │\n",
       "│ ---      ┆ ---               ┆ --- │\n",
       "│ i64      ┆ str               ┆ u32 │\n",
       "╞══════════╪═══════════════════╪═════╡\n",
       "│ 235441   ┆ ind_ahor_fin_ult1 ┆ 0   │\n",
       "│ 688325   ┆ ind_ahor_fin_ult1 ┆ 0   │\n",
       "│ 1203196  ┆ ind_ahor_fin_ult1 ┆ 0   │\n",
       "│ 932796   ┆ ind_ahor_fin_ult1 ┆ 0   │\n",
       "│ 1185898  ┆ ind_ahor_fin_ult1 ┆ 0   │\n",
       "│ 419589   ┆ ind_ahor_fin_ult1 ┆ 0   │\n",
       "│ 1299398  ┆ ind_ahor_fin_ult1 ┆ 0   │\n",
       "│ 1254066  ┆ ind_ahor_fin_ult1 ┆ 0   │\n",
       "│ 635633   ┆ ind_ahor_fin_ult1 ┆ 0   │\n",
       "│ 185485   ┆ ind_ahor_fin_ult1 ┆ 0   │\n",
       "└──────────┴───────────────────┴─────┘"
      ]
     },
     "execution_count": 36,
     "metadata": {},
     "output_type": "execute_result"
    }
   ],
   "source": [
    "melted_df = prod_sum.melt(id_vars=\"ncodpers\",\n",
    "                          value_name=\"qty\")\n",
    "melted_df.head(10)"
   ]
  },
  {
   "cell_type": "code",
   "execution_count": 38,
   "metadata": {},
   "outputs": [
    {
     "data": {
      "text/plain": [
       "'22,959,480 record that may have empty user-item interaction'"
      ]
     },
     "execution_count": 38,
     "metadata": {},
     "output_type": "execute_result"
    }
   ],
   "source": [
    "f'{melted_df.shape[0]:,} record that may have empty user-item interaction'"
   ]
  },
  {
   "cell_type": "code",
   "execution_count": 42,
   "metadata": {},
   "outputs": [
    {
     "name": "stdout",
     "output_type": "stream",
     "text": [
      "262.75 size in mb\n"
     ]
    }
   ],
   "source": [
    "print(f'{round(melted_df.estimated_size(\"mb\"), 2):,} size in mb')"
   ]
  },
  {
   "cell_type": "code",
   "execution_count": 43,
   "metadata": {},
   "outputs": [],
   "source": [
    "# Rename columns to match desired output\n",
    "melted_df = melted_df.rename({\n",
    "    \"variable\": \"iid\",\n",
    "    \"ncodpers\": \"uid\"\n",
    "})"
   ]
  },
  {
   "cell_type": "code",
   "execution_count": 44,
   "metadata": {},
   "outputs": [],
   "source": [
    "\n",
    "# Filter rows where qty > 1\n",
    "filtered_df = melted_df.filter(pl.col(\"qty\") > 0)"
   ]
  },
  {
   "cell_type": "code",
   "execution_count": 48,
   "metadata": {},
   "outputs": [
    {
     "name": "stdout",
     "output_type": "stream",
     "text": [
      "1,487,379 only useful record that show only user-item interaction\n"
     ]
    }
   ],
   "source": [
    "print(\n",
    "    f'{filtered_df.shape[0]:,} only useful record that show only user-item interaction')"
   ]
  },
  {
   "cell_type": "code",
   "execution_count": 46,
   "metadata": {},
   "outputs": [
    {
     "data": {
      "text/plain": [
       "'40 size in mb'"
      ]
     },
     "execution_count": 46,
     "metadata": {},
     "output_type": "execute_result"
    }
   ],
   "source": [
    "f'{round(filtered_df.estimated_size(\"mb\")):,} size in mb'"
   ]
  },
  {
   "cell_type": "code",
   "execution_count": 49,
   "metadata": {},
   "outputs": [],
   "source": [
    "filtered_df = filtered_df.sort(\"uid\")"
   ]
  },
  {
   "cell_type": "code",
   "execution_count": 50,
   "metadata": {},
   "outputs": [
    {
     "data": {
      "text/html": [
       "<div><style>\n",
       ".dataframe > thead > tr,\n",
       ".dataframe > tbody > tr {\n",
       "  text-align: right;\n",
       "  white-space: pre-wrap;\n",
       "}\n",
       "</style>\n",
       "<small>shape: (10, 3)</small><table border=\"1\" class=\"dataframe\"><thead><tr><th>uid</th><th>iid</th><th>qty</th></tr><tr><td>i64</td><td>str</td><td>u32</td></tr></thead><tbody><tr><td>15889</td><td>&quot;ind_cco_fin_ult1&quot;</td><td>17</td></tr><tr><td>15889</td><td>&quot;ind_ctpp_fin_ult1&quot;</td><td>17</td></tr><tr><td>15889</td><td>&quot;ind_tjcr_fin_ult1&quot;</td><td>8</td></tr><tr><td>15889</td><td>&quot;ind_valo_fin_ult1&quot;</td><td>17</td></tr><tr><td>15890</td><td>&quot;ind_cno_fin_ult1&quot;</td><td>17</td></tr><tr><td>15890</td><td>&quot;ind_ctpp_fin_ult1&quot;</td><td>17</td></tr><tr><td>15890</td><td>&quot;ind_ecue_fin_ult1&quot;</td><td>17</td></tr><tr><td>15890</td><td>&quot;ind_plan_fin_ult1&quot;</td><td>17</td></tr><tr><td>15890</td><td>&quot;ind_tjcr_fin_ult1&quot;</td><td>17</td></tr><tr><td>15890</td><td>&quot;ind_nomina_ult1&quot;</td><td>17</td></tr></tbody></table></div>"
      ],
      "text/plain": [
       "shape: (10, 3)\n",
       "┌───────┬───────────────────┬─────┐\n",
       "│ uid   ┆ iid               ┆ qty │\n",
       "│ ---   ┆ ---               ┆ --- │\n",
       "│ i64   ┆ str               ┆ u32 │\n",
       "╞═══════╪═══════════════════╪═════╡\n",
       "│ 15889 ┆ ind_cco_fin_ult1  ┆ 17  │\n",
       "│ 15889 ┆ ind_ctpp_fin_ult1 ┆ 17  │\n",
       "│ 15889 ┆ ind_tjcr_fin_ult1 ┆ 8   │\n",
       "│ 15889 ┆ ind_valo_fin_ult1 ┆ 17  │\n",
       "│ 15890 ┆ ind_cno_fin_ult1  ┆ 17  │\n",
       "│ 15890 ┆ ind_ctpp_fin_ult1 ┆ 17  │\n",
       "│ 15890 ┆ ind_ecue_fin_ult1 ┆ 17  │\n",
       "│ 15890 ┆ ind_plan_fin_ult1 ┆ 17  │\n",
       "│ 15890 ┆ ind_tjcr_fin_ult1 ┆ 17  │\n",
       "│ 15890 ┆ ind_nomina_ult1   ┆ 17  │\n",
       "└───────┴───────────────────┴─────┘"
      ]
     },
     "execution_count": 50,
     "metadata": {},
     "output_type": "execute_result"
    }
   ],
   "source": [
    "filtered_df.head(10)"
   ]
  },
  {
   "cell_type": "code",
   "execution_count": 52,
   "metadata": {},
   "outputs": [],
   "source": [
    "filtered_df.write_csv(\"rec_user_product_qty_data.csv\")"
   ]
  },
  {
   "cell_type": "code",
   "execution_count": null,
   "metadata": {},
   "outputs": [],
   "source": [
    "import pandas as pd\n",
    "\n",
    "data = {\n",
    "    \"iid\": [\n",
    "        \"ind_ahor_fin_ult1\", \"ind_aval_fin_ult1\", \"ind_cco_fin_ult1\", \"ind_cder_fin_ult1\",\n",
    "        \"ind_cno_fin_ult1\", \"ind_ctju_fin_ult1\", \"ind_ctma_fin_ult1\", \"ind_ctop_fin_ult1\",\n",
    "        \"ind_ctpp_fin_ult1\", \"ind_deco_fin_ult1\", \"ind_deme_fin_ult1\", \"ind_dela_fin_ult1\",\n",
    "        \"ind_ecue_fin_ult1\", \"ind_fond_fin_ult1\", \"ind_hip_fin_ult1\", \"ind_plan_fin_ult1\",\n",
    "        \"ind_pres_fin_ult1\", \"ind_reca_fin_ult1\", \"ind_tjcr_fin_ult1\", \"ind_valo_fin_ult1\",\n",
    "        \"ind_viv_fin_ult1\", \"ind_nomina_ult1\", \"ind_nom_pens_ult1\", \"ind_recibo_ult1\"\n",
    "    ],\n",
    "    \"name\": [\n",
    "        \"Saving Account\", \"Guarantees\", \"Current Accounts\", \"Derivada Account\",\n",
    "        \"Payroll Account\", \"Junior Account\", \"Más particular Account\", \"particular Account\",\n",
    "        \"particular Plus Account\", \"Short-term deposits\", \"Medium-term deposits\", \"Long-term deposits\",\n",
    "        \"e-account\", \"Funds\", \"Mortgage\", \"Pensions\",\n",
    "        \"Loans\", \"Taxes\", \"Credit Card\", \"Securities\",\n",
    "        \"Home Account\", \"Payroll\", \"Pensions\", \"Direct Debit\"\n",
    "    ]\n",
    "}\n",
    "\n",
    "# Create a DataFrame from the dictionary\n",
    "products_types_names_df = pd.DataFrame(data)\n",
    "\n",
    "# Write the DataFrame to a CSV file\n",
    "products_types_names_df.to_csv('products_type_names.csv', index=False)"
   ]
  },
  {
   "cell_type": "code",
   "execution_count": null,
   "metadata": {},
   "outputs": [],
   "source": []
  },
  {
   "cell_type": "code",
   "execution_count": null,
   "metadata": {},
   "outputs": [],
   "source": []
  }
 ],
 "metadata": {
  "kernelspec": {
   "display_name": "Python 3",
   "language": "python",
   "name": "python3"
  },
  "language_info": {
   "codemirror_mode": {
    "name": "ipython",
    "version": 3
   },
   "file_extension": ".py",
   "mimetype": "text/x-python",
   "name": "python",
   "nbconvert_exporter": "python",
   "pygments_lexer": "ipython3",
   "version": "3.11.0"
  }
 },
 "nbformat": 4,
 "nbformat_minor": 2
}
